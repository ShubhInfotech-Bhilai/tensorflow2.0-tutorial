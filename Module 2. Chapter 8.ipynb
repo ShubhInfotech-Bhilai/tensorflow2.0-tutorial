{
 "cells": [
  {
   "cell_type": "markdown",
   "metadata": {},
   "source": [
    "# Objective - Save & Restore Models \n",
    "## Agenda\n",
    "1. Why do we need to ?\n",
    "2. Checkpointing\n",
    "3. "
   ]
  },
  {
   "cell_type": "markdown",
   "metadata": {},
   "source": [
    "### 1. Why to save & restore models ?\n",
    "* Model progress can be saved during—and after—training. \n",
    "* This means a model can resume where it left off and avoid long training times. \n",
    "* Saving also means you can share your model and others can recreate your work. When publishing research models and techniques, most machine learning practitioners share:\n",
    "  - code to create the model, and\n",
    "  - the trained weights, or parameters, for the model\n",
    "* Sharing this data helps others understand how the model works and try it themselves with new data"
   ]
  },
  {
   "cell_type": "code",
   "execution_count": 8,
   "metadata": {},
   "outputs": [],
   "source": [
    "import os\n",
    "import tensorflow as tf\n",
    "from tensorflow import keras\n",
    "import numpy as np"
   ]
  },
  {
   "cell_type": "code",
   "execution_count": 9,
   "metadata": {},
   "outputs": [],
   "source": [
    "NUM_WORDS = 10000\n",
    "\n",
    "(train_data, train_labels), (test_data, test_labels) = keras.datasets.imdb.load_data(num_words=NUM_WORDS)\n",
    "\n",
    "def multi_hot_sequences(sequences, labels, dimension):\n",
    "    for seq,label in zip(sequences,labels):\n",
    "        result = np.zeros((1, dimension))\n",
    "        res_label = np.array([label])\n",
    "        for word_indices in seq:\n",
    "            result[0,word_indices] = 1.0  \n",
    "        yield result,res_label"
   ]
  },
  {
   "cell_type": "code",
   "execution_count": 23,
   "metadata": {},
   "outputs": [],
   "source": [
    "def make_model():\n",
    "    model = keras.Sequential([\n",
    "    keras.layers.Dense(16, activation='relu'),\n",
    "    keras.layers.Dense(16, activation='relu'),\n",
    "    keras.layers.Dense(1, activation='sigmoid')])\n",
    "    \n",
    "    model.compile(optimizer='adam',\n",
    "                       loss='binary_crossentropy',\n",
    "                       metrics=['accuracy', 'binary_crossentropy'])\n",
    "    \n",
    "    return model"
   ]
  },
  {
   "cell_type": "code",
   "execution_count": 24,
   "metadata": {},
   "outputs": [
    {
     "name": "stdout",
     "output_type": "stream",
     "text": [
      "Epoch 1/20\n",
      "512/512 - 2s - loss: 0.6245 - accuracy: 0.5872 - binary_crossentropy: 0.6730 - val_loss: 0.4792 - val_accuracy: 0.7780 - val_binary_crossentropy: 0.4792\n",
      "Epoch 2/20\n",
      "512/512 - 1s - loss: 0.4876 - accuracy: 0.7825 - binary_crossentropy: 0.4679 - val_loss: 0.4397 - val_accuracy: 0.7890 - val_binary_crossentropy: 0.4397\n",
      "Epoch 3/20\n",
      "512/512 - 1s - loss: 0.3791 - accuracy: 0.8221 - binary_crossentropy: 0.3699 - val_loss: 0.3486 - val_accuracy: 0.8460 - val_binary_crossentropy: 0.3486\n",
      "Epoch 4/20\n",
      "512/512 - 1s - loss: 0.4046 - accuracy: 0.8137 - binary_crossentropy: 0.4354 - val_loss: 0.4130 - val_accuracy: 0.8090 - val_binary_crossentropy: 0.4130\n",
      "Epoch 5/20\n",
      "512/512 - 1s - loss: 0.3751 - accuracy: 0.8531 - binary_crossentropy: 0.3775 - val_loss: 0.3510 - val_accuracy: 0.8420 - val_binary_crossentropy: 0.3510\n",
      "Epoch 6/20\n",
      "512/512 - 1s - loss: 0.3818 - accuracy: 0.8702 - binary_crossentropy: 0.3764 - val_loss: 0.3334 - val_accuracy: 0.8640 - val_binary_crossentropy: 0.3334\n",
      "Epoch 7/20\n",
      "512/512 - 1s - loss: 0.3383 - accuracy: 0.8596 - binary_crossentropy: 0.3370 - val_loss: 0.3606 - val_accuracy: 0.8530 - val_binary_crossentropy: 0.3606\n",
      "Epoch 8/20\n",
      "512/512 - 1s - loss: 0.3964 - accuracy: 0.8542 - binary_crossentropy: 0.3777 - val_loss: 0.3182 - val_accuracy: 0.8690 - val_binary_crossentropy: 0.3182\n",
      "Epoch 9/20\n",
      "512/512 - 1s - loss: 0.3280 - accuracy: 0.8870 - binary_crossentropy: 0.3039 - val_loss: 0.3496 - val_accuracy: 0.8450 - val_binary_crossentropy: 0.3496\n",
      "Epoch 10/20\n",
      "512/512 - 1s - loss: 0.3152 - accuracy: 0.8782 - binary_crossentropy: 0.3144 - val_loss: 0.3347 - val_accuracy: 0.8540 - val_binary_crossentropy: 0.3347\n",
      "Epoch 11/20\n",
      "512/512 - 1s - loss: 0.2888 - accuracy: 0.8903 - binary_crossentropy: 0.2809 - val_loss: 0.3685 - val_accuracy: 0.8350 - val_binary_crossentropy: 0.3685\n",
      "Epoch 12/20\n",
      "512/512 - 1s - loss: 0.3395 - accuracy: 0.8703 - binary_crossentropy: 0.3217 - val_loss: 0.3255 - val_accuracy: 0.8630 - val_binary_crossentropy: 0.3255\n",
      "Epoch 13/20\n",
      "512/512 - 1s - loss: 0.3018 - accuracy: 0.8459 - binary_crossentropy: 0.3371 - val_loss: 0.3599 - val_accuracy: 0.8580 - val_binary_crossentropy: 0.3599\n",
      "Epoch 14/20\n",
      "512/512 - 1s - loss: 0.3530 - accuracy: 0.8856 - binary_crossentropy: 0.3338 - val_loss: 0.3369 - val_accuracy: 0.8700 - val_binary_crossentropy: 0.3369\n",
      "Epoch 15/20\n",
      "512/512 - 1s - loss: 0.2987 - accuracy: 0.8541 - binary_crossentropy: 0.3101 - val_loss: 0.3512 - val_accuracy: 0.8560 - val_binary_crossentropy: 0.3512\n",
      "Epoch 16/20\n",
      "512/512 - 1s - loss: 0.3125 - accuracy: 0.8591 - binary_crossentropy: 0.3261 - val_loss: 0.3595 - val_accuracy: 0.8390 - val_binary_crossentropy: 0.3595\n",
      "Epoch 17/20\n",
      "512/512 - 1s - loss: 0.3178 - accuracy: 0.8412 - binary_crossentropy: 0.3536 - val_loss: 0.2991 - val_accuracy: 0.8880 - val_binary_crossentropy: 0.2991\n",
      "Epoch 18/20\n",
      "512/512 - 1s - loss: 0.3225 - accuracy: 0.8337 - binary_crossentropy: 0.3550 - val_loss: 0.3105 - val_accuracy: 0.8710 - val_binary_crossentropy: 0.3105\n",
      "Epoch 19/20\n",
      "512/512 - 1s - loss: 0.2834 - accuracy: 0.8551 - binary_crossentropy: 0.3241 - val_loss: 0.2761 - val_accuracy: 0.8820 - val_binary_crossentropy: 0.2761\n",
      "Epoch 20/20\n",
      "512/512 - 1s - loss: 0.3049 - accuracy: 0.8985 - binary_crossentropy: 0.2676 - val_loss: 0.3317 - val_accuracy: 0.8530 - val_binary_crossentropy: 0.3317\n"
     ]
    }
   ],
   "source": [
    "baseline_model = make_model()\n",
    "\n",
    "train = multi_hot_sequences(train_data, train_labels, dimension=NUM_WORDS)\n",
    "test = multi_hot_sequences(test_data, test_labels, dimension=NUM_WORDS)\n",
    "\n",
    "baseline_history = baseline_model.fit_generator(train,epochs=20,steps_per_epoch=512,verbose=2, validation_data=test, validation_steps= 1000)"
   ]
  },
  {
   "cell_type": "markdown",
   "metadata": {},
   "source": [
    "### Saving checkpoints during training\n",
    "* You can use a trained model without having to retrain it, or pick-up training where you left off—in case the training process was interrupted."
   ]
  },
  {
   "cell_type": "code",
   "execution_count": 12,
   "metadata": {},
   "outputs": [],
   "source": [
    "checkpoint_path = \"training_1/cp.ckpt\"\n",
    "checkpoint_dir = os.path.dirname(checkpoint_path)\n",
    "\n",
    "# Create a callback that saves the model's weights\n",
    "cp_callback = keras.callbacks.ModelCheckpoint(filepath=checkpoint_path,\n",
    "                                                 save_weights_only=True,\n",
    "                                                 verbose=1)"
   ]
  },
  {
   "cell_type": "code",
   "execution_count": 25,
   "metadata": {},
   "outputs": [
    {
     "name": "stdout",
     "output_type": "stream",
     "text": [
      "Epoch 1/20\n",
      "\n",
      "Epoch 00001: saving model to training_1/cp.ckpt\n",
      "512/512 - 2s - loss: 0.5994 - accuracy: 0.5626 - binary_crossentropy: 0.6662 - val_loss: 0.4771 - val_accuracy: 0.7740 - val_binary_crossentropy: 0.4771\n",
      "Epoch 2/20\n",
      "\n",
      "Epoch 00002: saving model to training_1/cp.ckpt\n",
      "512/512 - 1s - loss: 0.4893 - accuracy: 0.7753 - binary_crossentropy: 0.4538 - val_loss: 0.4398 - val_accuracy: 0.7850 - val_binary_crossentropy: 0.4398\n",
      "Epoch 3/20\n",
      "\n",
      "Epoch 00003: saving model to training_1/cp.ckpt\n",
      "512/512 - 1s - loss: 0.3867 - accuracy: 0.8300 - binary_crossentropy: 0.3720 - val_loss: 0.3878 - val_accuracy: 0.8360 - val_binary_crossentropy: 0.3878\n",
      "Epoch 4/20\n",
      "\n",
      "Epoch 00004: saving model to training_1/cp.ckpt\n",
      "512/512 - 1s - loss: 0.4074 - accuracy: 0.8338 - binary_crossentropy: 0.4417 - val_loss: 0.3994 - val_accuracy: 0.8290 - val_binary_crossentropy: 0.3994\n",
      "Epoch 5/20\n",
      "\n",
      "Epoch 00005: saving model to training_1/cp.ckpt\n",
      "512/512 - 1s - loss: 0.3959 - accuracy: 0.8584 - binary_crossentropy: 0.4057 - val_loss: 0.3598 - val_accuracy: 0.8410 - val_binary_crossentropy: 0.3598\n",
      "Epoch 6/20\n",
      "\n",
      "Epoch 00006: saving model to training_1/cp.ckpt\n",
      "512/512 - 1s - loss: 0.3749 - accuracy: 0.8542 - binary_crossentropy: 0.3694 - val_loss: 0.3313 - val_accuracy: 0.8630 - val_binary_crossentropy: 0.3313\n",
      "Epoch 7/20\n",
      "\n",
      "Epoch 00007: saving model to training_1/cp.ckpt\n",
      "512/512 - 1s - loss: 0.3504 - accuracy: 0.8504 - binary_crossentropy: 0.3520 - val_loss: 0.3767 - val_accuracy: 0.8400 - val_binary_crossentropy: 0.3767\n",
      "Epoch 8/20\n",
      "\n",
      "Epoch 00008: saving model to training_1/cp.ckpt\n",
      "512/512 - 1s - loss: 0.4035 - accuracy: 0.8466 - binary_crossentropy: 0.3867 - val_loss: 0.3237 - val_accuracy: 0.8740 - val_binary_crossentropy: 0.3237\n",
      "Epoch 9/20\n",
      "\n",
      "Epoch 00009: saving model to training_1/cp.ckpt\n",
      "512/512 - 1s - loss: 0.3216 - accuracy: 0.8834 - binary_crossentropy: 0.2955 - val_loss: 0.3453 - val_accuracy: 0.8460 - val_binary_crossentropy: 0.3453\n",
      "Epoch 10/20\n",
      "\n",
      "Epoch 00010: saving model to training_1/cp.ckpt\n",
      "512/512 - 1s - loss: 0.3138 - accuracy: 0.8675 - binary_crossentropy: 0.3066 - val_loss: 0.3344 - val_accuracy: 0.8600 - val_binary_crossentropy: 0.3344\n",
      "Epoch 11/20\n",
      "\n",
      "Epoch 00011: saving model to training_1/cp.ckpt\n",
      "512/512 - 1s - loss: 0.2987 - accuracy: 0.8874 - binary_crossentropy: 0.2886 - val_loss: 0.3707 - val_accuracy: 0.8340 - val_binary_crossentropy: 0.3707\n",
      "Epoch 12/20\n",
      "\n",
      "Epoch 00012: saving model to training_1/cp.ckpt\n",
      "512/512 - 1s - loss: 0.3376 - accuracy: 0.8890 - binary_crossentropy: 0.3172 - val_loss: 0.3269 - val_accuracy: 0.8520 - val_binary_crossentropy: 0.3269\n",
      "Epoch 13/20\n",
      "\n",
      "Epoch 00013: saving model to training_1/cp.ckpt\n",
      "512/512 - 1s - loss: 0.3060 - accuracy: 0.8600 - binary_crossentropy: 0.3343 - val_loss: 0.3701 - val_accuracy: 0.8490 - val_binary_crossentropy: 0.3701\n",
      "Epoch 14/20\n",
      "\n",
      "Epoch 00014: saving model to training_1/cp.ckpt\n",
      "512/512 - 1s - loss: 0.3513 - accuracy: 0.8906 - binary_crossentropy: 0.3347 - val_loss: 0.3364 - val_accuracy: 0.8590 - val_binary_crossentropy: 0.3364\n",
      "Epoch 15/20\n",
      "\n",
      "Epoch 00015: saving model to training_1/cp.ckpt\n",
      "512/512 - 1s - loss: 0.3048 - accuracy: 0.8471 - binary_crossentropy: 0.3239 - val_loss: 0.3360 - val_accuracy: 0.8560 - val_binary_crossentropy: 0.3360\n",
      "Epoch 16/20\n",
      "\n",
      "Epoch 00016: saving model to training_1/cp.ckpt\n",
      "512/512 - 1s - loss: 0.3137 - accuracy: 0.8572 - binary_crossentropy: 0.3413 - val_loss: 0.3714 - val_accuracy: 0.8460 - val_binary_crossentropy: 0.3714\n",
      "Epoch 17/20\n",
      "\n",
      "Epoch 00017: saving model to training_1/cp.ckpt\n",
      "512/512 - 1s - loss: 0.3227 - accuracy: 0.8480 - binary_crossentropy: 0.3532 - val_loss: 0.3042 - val_accuracy: 0.8840 - val_binary_crossentropy: 0.3042\n",
      "Epoch 18/20\n",
      "\n",
      "Epoch 00018: saving model to training_1/cp.ckpt\n",
      "512/512 - 1s - loss: 0.3179 - accuracy: 0.8425 - binary_crossentropy: 0.3423 - val_loss: 0.3085 - val_accuracy: 0.8780 - val_binary_crossentropy: 0.3085\n",
      "Epoch 19/20\n",
      "\n",
      "Epoch 00019: saving model to training_1/cp.ckpt\n",
      "512/512 - 2s - loss: 0.2875 - accuracy: 0.8671 - binary_crossentropy: 0.3312 - val_loss: 0.2722 - val_accuracy: 0.8860 - val_binary_crossentropy: 0.2722\n",
      "Epoch 20/20\n",
      "\n",
      "Epoch 00020: saving model to training_1/cp.ckpt\n",
      "512/512 - 2s - loss: 0.3213 - accuracy: 0.8804 - binary_crossentropy: 0.2859 - val_loss: 0.3278 - val_accuracy: 0.8610 - val_binary_crossentropy: 0.3278\n"
     ]
    }
   ],
   "source": [
    "train = multi_hot_sequences(train_data, train_labels, dimension=NUM_WORDS)\n",
    "test = multi_hot_sequences(test_data, test_labels, dimension=NUM_WORDS)\n",
    "\n",
    "model_chkpt = make_model()\n",
    "\n",
    "model_chkpt_history = model_chkpt.fit_generator(train,epochs=20,steps_per_epoch=512,verbose=2, validation_data=test, validation_steps= 1000, callbacks=[cp_callback])"
   ]
  },
  {
   "cell_type": "code",
   "execution_count": 28,
   "metadata": {},
   "outputs": [
    {
     "data": {
      "text/plain": [
       "[0.32284281072010856, 0.861, 0.3228429]"
      ]
     },
     "execution_count": 28,
     "metadata": {},
     "output_type": "execute_result"
    }
   ],
   "source": [
    "baseline_model.evaluate_generator(test, steps=1000)"
   ]
  },
  {
   "cell_type": "markdown",
   "metadata": {},
   "source": [
    "* Predicting using untrained model"
   ]
  },
  {
   "cell_type": "code",
   "execution_count": 26,
   "metadata": {},
   "outputs": [],
   "source": [
    "untrained_model = make_model()"
   ]
  },
  {
   "cell_type": "code",
   "execution_count": 27,
   "metadata": {},
   "outputs": [
    {
     "data": {
      "text/plain": [
       "[0.6916080796122551, 0.512, 0.69160795]"
      ]
     },
     "execution_count": 27,
     "metadata": {},
     "output_type": "execute_result"
    }
   ],
   "source": [
    "untrained_model.evaluate_generator(test, steps=1000)"
   ]
  },
  {
   "cell_type": "markdown",
   "metadata": {},
   "source": [
    "### Loading saved model\n",
    "* Load weights from checkpoint to re-evaluate"
   ]
  },
  {
   "cell_type": "code",
   "execution_count": 29,
   "metadata": {},
   "outputs": [
    {
     "data": {
      "text/plain": [
       "<tensorflow.python.training.tracking.util.CheckpointLoadStatus at 0x7f179978aac8>"
      ]
     },
     "execution_count": 29,
     "metadata": {},
     "output_type": "execute_result"
    }
   ],
   "source": [
    "untrained_model.load_weights(checkpoint_path)"
   ]
  },
  {
   "cell_type": "code",
   "execution_count": 30,
   "metadata": {},
   "outputs": [
    {
     "data": {
      "text/plain": [
       "[0.33172763868992866, 0.863, 0.33172756]"
      ]
     },
     "execution_count": 30,
     "metadata": {},
     "output_type": "execute_result"
    }
   ],
   "source": [
    "untrained_model.evaluate_generator(test, steps=1000)"
   ]
  },
  {
   "cell_type": "markdown",
   "metadata": {},
   "source": [
    " * Checkpointing after every 5 epochs"
   ]
  },
  {
   "cell_type": "code",
   "execution_count": 33,
   "metadata": {},
   "outputs": [
    {
     "name": "stderr",
     "output_type": "stream",
     "text": [
      "W0730 15:45:27.568769 139740642637632 callbacks.py:859] `period` argument is deprecated. Please use `save_freq` to specify the frequency in number of samples seen.\n"
     ]
    },
    {
     "name": "stdout",
     "output_type": "stream",
     "text": [
      "Epoch 1/20\n",
      "512/512 - 2s - loss: 0.5965 - accuracy: 0.5883 - binary_crossentropy: 0.6555 - val_loss: 0.4588 - val_accuracy: 0.7880 - val_binary_crossentropy: 0.4588\n",
      "Epoch 2/20\n",
      "512/512 - 1s - loss: 0.4839 - accuracy: 0.7742 - binary_crossentropy: 0.4537 - val_loss: 0.4331 - val_accuracy: 0.7980 - val_binary_crossentropy: 0.4331\n",
      "Epoch 3/20\n",
      "512/512 - 1s - loss: 0.3737 - accuracy: 0.8377 - binary_crossentropy: 0.3550 - val_loss: 0.3731 - val_accuracy: 0.8370 - val_binary_crossentropy: 0.3731\n",
      "Epoch 4/20\n",
      "512/512 - 1s - loss: 0.4144 - accuracy: 0.8235 - binary_crossentropy: 0.4452 - val_loss: 0.4285 - val_accuracy: 0.8160 - val_binary_crossentropy: 0.4285\n",
      "Epoch 5/20\n",
      "\n",
      "Epoch 00005: saving model to training_2/cp-0005.ckpt\n",
      "512/512 - 1s - loss: 0.3908 - accuracy: 0.8550 - binary_crossentropy: 0.3987 - val_loss: 0.3726 - val_accuracy: 0.8300 - val_binary_crossentropy: 0.3726\n",
      "Epoch 6/20\n",
      "512/512 - 1s - loss: 0.3877 - accuracy: 0.8530 - binary_crossentropy: 0.3816 - val_loss: 0.3375 - val_accuracy: 0.8630 - val_binary_crossentropy: 0.3375\n",
      "Epoch 7/20\n",
      "512/512 - 1s - loss: 0.3487 - accuracy: 0.8422 - binary_crossentropy: 0.3596 - val_loss: 0.3689 - val_accuracy: 0.8490 - val_binary_crossentropy: 0.3689\n",
      "Epoch 8/20\n",
      "512/512 - 1s - loss: 0.4004 - accuracy: 0.8450 - binary_crossentropy: 0.3807 - val_loss: 0.3271 - val_accuracy: 0.8670 - val_binary_crossentropy: 0.3271\n",
      "Epoch 9/20\n",
      "512/512 - 1s - loss: 0.3273 - accuracy: 0.8828 - binary_crossentropy: 0.3012 - val_loss: 0.3495 - val_accuracy: 0.8470 - val_binary_crossentropy: 0.3495\n",
      "Epoch 10/20\n",
      "\n",
      "Epoch 00010: saving model to training_2/cp-0010.ckpt\n",
      "512/512 - 1s - loss: 0.3166 - accuracy: 0.8658 - binary_crossentropy: 0.3157 - val_loss: 0.3314 - val_accuracy: 0.8610 - val_binary_crossentropy: 0.3314\n",
      "Epoch 11/20\n",
      "512/512 - 2s - loss: 0.3041 - accuracy: 0.8910 - binary_crossentropy: 0.2942 - val_loss: 0.3813 - val_accuracy: 0.8260 - val_binary_crossentropy: 0.3813\n",
      "Epoch 12/20\n",
      "512/512 - 2s - loss: 0.3472 - accuracy: 0.8786 - binary_crossentropy: 0.3278 - val_loss: 0.3268 - val_accuracy: 0.8630 - val_binary_crossentropy: 0.3268\n",
      "Epoch 13/20\n",
      "512/512 - 2s - loss: 0.3023 - accuracy: 0.8597 - binary_crossentropy: 0.3337 - val_loss: 0.3779 - val_accuracy: 0.8520 - val_binary_crossentropy: 0.3779\n",
      "Epoch 14/20\n",
      "512/512 - 2s - loss: 0.3463 - accuracy: 0.8802 - binary_crossentropy: 0.3264 - val_loss: 0.3421 - val_accuracy: 0.8570 - val_binary_crossentropy: 0.3421\n",
      "Epoch 15/20\n",
      "\n",
      "Epoch 00015: saving model to training_2/cp-0015.ckpt\n",
      "512/512 - 1s - loss: 0.3079 - accuracy: 0.8607 - binary_crossentropy: 0.3202 - val_loss: 0.3621 - val_accuracy: 0.8510 - val_binary_crossentropy: 0.3621\n",
      "Epoch 16/20\n",
      "512/512 - 1s - loss: 0.3084 - accuracy: 0.8517 - binary_crossentropy: 0.3361 - val_loss: 0.3660 - val_accuracy: 0.8420 - val_binary_crossentropy: 0.3660\n",
      "Epoch 17/20\n",
      "512/512 - 2s - loss: 0.3228 - accuracy: 0.8416 - binary_crossentropy: 0.3586 - val_loss: 0.3052 - val_accuracy: 0.8800 - val_binary_crossentropy: 0.3052\n",
      "Epoch 18/20\n",
      "512/512 - 2s - loss: 0.3237 - accuracy: 0.8298 - binary_crossentropy: 0.3488 - val_loss: 0.3011 - val_accuracy: 0.8700 - val_binary_crossentropy: 0.3011\n",
      "Epoch 19/20\n",
      "512/512 - 2s - loss: 0.2785 - accuracy: 0.8591 - binary_crossentropy: 0.3104 - val_loss: 0.2683 - val_accuracy: 0.8910 - val_binary_crossentropy: 0.2683\n",
      "Epoch 20/20\n",
      "\n",
      "Epoch 00020: saving model to training_2/cp-0020.ckpt\n",
      "512/512 - 1s - loss: 0.3132 - accuracy: 0.8863 - binary_crossentropy: 0.2795 - val_loss: 0.3571 - val_accuracy: 0.8500 - val_binary_crossentropy: 0.3571\n"
     ]
    }
   ],
   "source": [
    "# Include the epoch in the file name (uses `str.format`)\n",
    "checkpoint_path = \"training_2/cp-{epoch:04d}.ckpt\"\n",
    "checkpoint_dir = os.path.dirname(checkpoint_path)\n",
    "\n",
    "# Create a callback that saves the model's weights every 5 epochs\n",
    "cp_callback = tf.keras.callbacks.ModelCheckpoint(\n",
    "    filepath=checkpoint_path, \n",
    "    verbose=1, \n",
    "    save_weights_only=True,\n",
    "    period=5)\n",
    "\n",
    "# Create a new model instance\n",
    "model = make_model()\n",
    "\n",
    "# Train the model with the new callback\n",
    "train = multi_hot_sequences(train_data, train_labels, dimension=NUM_WORDS)\n",
    "test = multi_hot_sequences(test_data, test_labels, dimension=NUM_WORDS)\n",
    "\n",
    "history = model.fit_generator(train,epochs=20,\n",
    "                                                steps_per_epoch=512,verbose=2, \n",
    "                                                validation_data=test, \n",
    "                                                validation_steps= 1000, callbacks=[cp_callback])\n",
    "\n",
    "# Save the weights using the `checkpoint_path` format\n",
    "model.save_weights(checkpoint_path.format(epoch=0))"
   ]
  },
  {
   "cell_type": "markdown",
   "metadata": {},
   "source": [
    "* Checkpoint files contain the learned weights\n",
    "* Manually saving weights"
   ]
  },
  {
   "cell_type": "code",
   "execution_count": 37,
   "metadata": {},
   "outputs": [
    {
     "data": {
      "text/plain": [
       "[0.3628490496046576, 0.852, 0.36284903]"
      ]
     },
     "execution_count": 37,
     "metadata": {},
     "output_type": "execute_result"
    }
   ],
   "source": [
    "# Save the weights\n",
    "model.save_weights('./checkpoints/my_checkpoint')\n",
    "\n",
    "# Create a new model instance\n",
    "model = make_model()\n",
    "\n",
    "# Restore the weights\n",
    "model.load_weights('./checkpoints/my_checkpoint')\n",
    "\n",
    "# Evaluate the model\n",
    "model.evaluate_generator(test, steps=1000)"
   ]
  },
  {
   "cell_type": "markdown",
   "metadata": {},
   "source": [
    "### Saving the entire model\n",
    "* The model and optimizer can be saved to a file that contains both their state (weights and variables) and the model configuration. \n",
    "* This allows you to export a model so it can be used without access to the original Python code. Since the optimizer-state is recovered, you can resume training from exactly where you left off."
   ]
  },
  {
   "cell_type": "code",
   "execution_count": 38,
   "metadata": {},
   "outputs": [],
   "source": [
    "model.save('my_trained_model.h5')"
   ]
  },
  {
   "cell_type": "code",
   "execution_count": 39,
   "metadata": {},
   "outputs": [
    {
     "name": "stderr",
     "output_type": "stream",
     "text": [
      "W0730 17:44:49.810069 139740642637632 hdf5_format.py:197] Sequential models without an `input_shape` passed to the first layer cannot reload their optimizer state. As a result, your model isstarting with a freshly initialized optimizer.\n"
     ]
    }
   ],
   "source": [
    "model = keras.models.load_model('my_trained_model.h5')"
   ]
  },
  {
   "cell_type": "markdown",
   "metadata": {},
   "source": [
    "* Resuming training from where it stopped"
   ]
  },
  {
   "cell_type": "code",
   "execution_count": null,
   "metadata": {},
   "outputs": [
    {
     "name": "stdout",
     "output_type": "stream",
     "text": [
      "Epoch 1/20\n",
      "512/512 - 1s - loss: 0.1864 - accuracy: 0.9199 - binary_crossentropy: 0.1864 - val_loss: 0.3917 - val_accuracy: 0.8570 - val_binary_crossentropy: 0.3917\n",
      "Epoch 2/20\n",
      "512/512 - 1s - loss: 0.1822 - accuracy: 0.9141 - binary_crossentropy: 0.1822 - val_loss: 0.3983 - val_accuracy: 0.8520 - val_binary_crossentropy: 0.3983\n",
      "Epoch 3/20\n",
      "\n",
      "Epoch 00003: saving model to training_2/cp-0003.ckpt\n",
      "512/512 - 1s - loss: 0.1724 - accuracy: 0.9375 - binary_crossentropy: 0.1724 - val_loss: 0.3423 - val_accuracy: 0.8700 - val_binary_crossentropy: 0.3423\n",
      "Epoch 4/20\n",
      "512/512 - 1s - loss: 0.1578 - accuracy: 0.9336 - binary_crossentropy: 0.1578 - val_loss: 0.3886 - val_accuracy: 0.8590 - val_binary_crossentropy: 0.3886\n",
      "Epoch 5/20\n",
      "512/512 - 1s - loss: 0.1824 - accuracy: 0.9336 - binary_crossentropy: 0.1824 - val_loss: 0.3714 - val_accuracy: 0.8630 - val_binary_crossentropy: 0.3714\n",
      "Epoch 6/20\n",
      "512/512 - 1s - loss: 0.1914 - accuracy: 0.9277 - binary_crossentropy: 0.1914 - val_loss: 0.3742 - val_accuracy: 0.8590 - val_binary_crossentropy: 0.3742\n",
      "Epoch 7/20\n",
      "512/512 - 1s - loss: 0.1748 - accuracy: 0.9375 - binary_crossentropy: 0.1748 - val_loss: 0.3912 - val_accuracy: 0.8660 - val_binary_crossentropy: 0.3912\n",
      "Epoch 8/20\n",
      "\n",
      "Epoch 00008: saving model to training_2/cp-0008.ckpt\n",
      "512/512 - 1s - loss: 0.2115 - accuracy: 0.9277 - binary_crossentropy: 0.2115 - val_loss: 0.3284 - val_accuracy: 0.8670 - val_binary_crossentropy: 0.3284\n",
      "Epoch 9/20\n",
      "512/512 - 2s - loss: 0.1499 - accuracy: 0.9453 - binary_crossentropy: 0.1499 - val_loss: 0.3977 - val_accuracy: 0.8460 - val_binary_crossentropy: 0.3977\n",
      "Epoch 10/20\n",
      "512/512 - 2s - loss: 0.1369 - accuracy: 0.9473 - binary_crossentropy: 0.1369 - val_loss: 0.4140 - val_accuracy: 0.8640 - val_binary_crossentropy: 0.4140\n",
      "Epoch 11/20\n",
      "512/512 - 1s - loss: 0.1474 - accuracy: 0.9395 - binary_crossentropy: 0.1474 - val_loss: 0.4515 - val_accuracy: 0.8500 - val_binary_crossentropy: 0.4515\n",
      "Epoch 12/20\n",
      "512/512 - 1s - loss: 0.1657 - accuracy: 0.9336 - binary_crossentropy: 0.1657 - val_loss: 0.3691 - val_accuracy: 0.8720 - val_binary_crossentropy: 0.3691\n",
      "Epoch 13/20\n",
      "\n",
      "Epoch 00013: saving model to training_2/cp-0013.ckpt\n",
      "512/512 - 1s - loss: 0.1268 - accuracy: 0.9512 - binary_crossentropy: 0.1268 - val_loss: 0.3966 - val_accuracy: 0.8720 - val_binary_crossentropy: 0.3966\n",
      "Epoch 14/20\n",
      "512/512 - 1s - loss: 0.1816 - accuracy: 0.9355 - binary_crossentropy: 0.1816 - val_loss: 0.4071 - val_accuracy: 0.8470 - val_binary_crossentropy: 0.4071\n",
      "Epoch 15/20\n"
     ]
    }
   ],
   "source": [
    "train = multi_hot_sequences(train_data, train_labels, dimension=NUM_WORDS)\n",
    "test = multi_hot_sequences(test_data, test_labels, dimension=NUM_WORDS)\n",
    "\n",
    "history = model.fit_generator(train,epochs=20,\n",
    "                                                steps_per_epoch=512,verbose=2, \n",
    "                                                validation_data=test, \n",
    "                                                validation_steps= 1000, callbacks=[cp_callback])"
   ]
  },
  {
   "cell_type": "code",
   "execution_count": null,
   "metadata": {},
   "outputs": [],
   "source": []
  }
 ],
 "metadata": {
  "kernelspec": {
   "display_name": "Python 3",
   "language": "python",
   "name": "python3"
  },
  "language_info": {
   "codemirror_mode": {
    "name": "ipython",
    "version": 3
   },
   "file_extension": ".py",
   "mimetype": "text/x-python",
   "name": "python",
   "nbconvert_exporter": "python",
   "pygments_lexer": "ipython3",
   "version": "3.7.3"
  }
 },
 "nbformat": 4,
 "nbformat_minor": 2
}
